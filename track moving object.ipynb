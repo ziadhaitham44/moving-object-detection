{
 "cells": [
  {
   "cell_type": "code",
   "execution_count": 1,
   "metadata": {},
   "outputs": [
    {
     "name": "stdout",
     "output_type": "stream",
     "text": [
      "4.6.0\n"
     ]
    }
   ],
   "source": [
    "import cv2\n",
    "print(cv2.__version__)\n"
   ]
  },
  {
   "cell_type": "code",
   "execution_count": 23,
   "metadata": {
    "scrolled": true
   },
   "outputs": [],
   "source": [
    "import cv2,time\n",
    "video=cv2.VideoCapture(0)\n",
    "first_frame=None\n",
    "while True:\n",
    "    check,frame=video.read()\n",
    "    gray=cv2.cvtColor(frame,cv2.COLOR_BGR2GRAY)\n",
    "    gray=cv2.GaussianBlur(gray,(21,21),0)\n",
    "    if first_frame is None:\n",
    "        first_frame = gray\n",
    "        continue\n",
    "    delta_frame=cv2.absdiff(first_frame,gray)\n",
    "    threshold_frame=cv2.threshold(delta_frame,50,255,cv2.THRESH_BINARY)[1]\n",
    "    threshold_frame=cv2.dilate(threshold_frame,None,iterations=2)\n",
    "    (cntr,_)=cv2.findContours(threshold_frame.copy(),cv2.RETR_EXTERNAL,cv2.CHAIN_APPROX_SIMPLE)\n",
    "    for contour in cntr:\n",
    "        if cv2.contourArea(contour)<1000:\n",
    "            continue\n",
    "        (x,y,w,h)=cv2.boundingRect(contour)\n",
    "        cv2.rectangle(frame,(x,y),(x+w,y+h),(0,255,0),3)\n",
    "\n",
    "    cv2.imshow(\"frame\",frame)\n",
    "    key=cv2.waitKey(1)\n",
    "    if key==ord('q'):\n",
    "        break\n",
    "\n",
    "video.release()\n",
    "cv2.destroyAllWindows()\n",
    "\n"
   ]
  },
  {
   "cell_type": "code",
   "execution_count": 11,
   "metadata": {},
   "outputs": [],
   "source": []
  },
  {
   "cell_type": "code",
   "execution_count": 21,
   "metadata": {},
   "outputs": [],
   "source": [
    "\n"
   ]
  },
  {
   "cell_type": "code",
   "execution_count": null,
   "metadata": {},
   "outputs": [],
   "source": []
  },
  {
   "cell_type": "code",
   "execution_count": null,
   "metadata": {},
   "outputs": [],
   "source": []
  }
 ],
 "metadata": {
  "kernelspec": {
   "display_name": "Python 3 (ipykernel)",
   "language": "python",
   "name": "python3"
  },
  "language_info": {
   "codemirror_mode": {
    "name": "ipython",
    "version": 3
   },
   "file_extension": ".py",
   "mimetype": "text/x-python",
   "name": "python",
   "nbconvert_exporter": "python",
   "pygments_lexer": "ipython3",
   "version": "3.9.13"
  },
  "vscode": {
   "interpreter": {
    "hash": "10bc2265f3cfafd282e8b728c474860e82d2ac8403e86016cc29fb89dc69d740"
   }
  }
 },
 "nbformat": 4,
 "nbformat_minor": 2
}
